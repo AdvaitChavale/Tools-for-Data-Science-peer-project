{
 "cells": [
  {
   "cell_type": "code",
   "execution_count": 4,
   "metadata": {},
   "outputs": [
    {
     "data": {
      "text/plain": [
       "{'cells': [{'metadata': {'collapsed'},\n",
       "   'cell_type': 'markdown',\n",
       "   'source': '# My Jupyter Notebook on IBM Data Science Experience'},\n",
       "  {'metadata': {},\n",
       "   'cell_type': 'markdown',\n",
       "   'source': '**Advait Santosh Chavale**\\n<br>Computer Engineering Student'},\n",
       "  {'metadata': {},\n",
       "   'cell_type': 'markdown',\n",
       "   'source': '*I am interested in data science because I love telling stories with data and using data to help bring that data to life.I love helping others. In data science that could be helping a business understand its customers or improving the way it uses its customer data.*'},\n",
       "  {'metadata': {},\n",
       "   'cell_type': 'markdown',\n",
       "   'source': '### Division in Python : When you divide in Python 3, your quotient will always be returned as a float, even if you use two integers:'},\n",
       "  {'metadata': {},\n",
       "   'cell_type': 'code',\n",
       "   'source': '80/5',\n",
       "   'execution_count': 4,\n",
       "   'outputs': [{'output_type': 'execute_result',\n",
       "     'execution_count': 4,\n",
       "     'data': {'text/plain': '16.0'},\n",
       "     'metadata': {}}]},\n",
       "  {'metadata': {},\n",
       "   'cell_type': 'markdown',\n",
       "   'source': '- This is a Bullet Point\\n\\nBelow this line is a Horizontal Rule\\n***\\n\\n7. This is a Numbered List\\n\\nHere is a Sample Markdown Table ->\\n\\n| Name  | Address | Salary |\\n|-------|---------|--------|\\n| Stacy | Sydney  | 500    |\\n\\n\\n[Here is Hyperlink to my GitHub](https://www.github.com/ankit2web)\\n\\n\\n\\n```python\\n# Code & Syntax Highlighting in Python\\nimport antigravity\\n```\\n\\n\\n> This is a Blockquote\\n\\n\\nErase your mistakes using strike-through ~~like this~~.\\n\\n\\n\\nAnd, I love Iron Man ![alt text](https://vignette.wikia.nocookie.net/marvelcinematicuniverse/images/3/35/IronMan-EndgameProfile.jpg/revision/latest/scale-to-width-down/310?cb=20190423175213)'}],\n",
       " 'metadata': {'kernelspec': {'name': 'python3',\n",
       "   'display_name': 'Python 3.6',\n",
       "   'language': 'python'},\n",
       "  'language_info': {'name': 'python',\n",
       "   'version': '3.6.8',\n",
       "   'mimetype': 'text/x-python',\n",
       "   'codemirror_mode': {'name': 'ipython', 'version': 3},\n",
       "   'pygments_lexer': 'ipython3',\n",
       "   'nbconvert_exporter': 'python',\n",
       "   'file_extension': '.py'}},\n",
       " 'nbformat': 4,\n",
       " 'nbformat_minor': 1}"
      ]
     },
     "execution_count": 4,
     "metadata": {},
     "output_type": "execute_result"
    }
   ],
   "source": [
    "{\"cells\": [{\"metadata\": {\"collapsed\"}, \"cell_type\": \"markdown\", \"source\": \"# My Jupyter Notebook on IBM Data Science Experience\"}, {\"metadata\": {}, \"cell_type\": \"markdown\", \"source\": \"**Advait Santosh Chavale**\\n<br>Computer Engineering Student\"}, {\"metadata\": {}, \"cell_type\": \"markdown\", \"source\": \"*I am interested in data science because I love telling stories with data and using data to help bring that data to life.I love helping others. In data science that could be helping a business understand its customers or improving the way it uses its customer data.*\"}, {\"metadata\": {}, \"cell_type\": \"markdown\", \"source\": \"### Division in Python : When you divide in Python 3, your quotient will always be returned as a float, even if you use two integers:\"}, {\"metadata\": {}, \"cell_type\": \"code\", \"source\": \"80/5\", \"execution_count\": 4, \"outputs\": [{\"output_type\": \"execute_result\", \"execution_count\": 4, \"data\": {\"text/plain\": \"16.0\"}, \"metadata\": {}}]}, {\"metadata\": {}, \"cell_type\": \"markdown\", \"source\": \"- This is a Bullet Point\\n\\nBelow this line is a Horizontal Rule\\n***\\n\\n7. This is a Numbered List\\n\\nHere is a Sample Markdown Table ->\\n\\n| Name  | Address | Salary |\\n|-------|---------|--------|\\n| Stacy | Sydney  | 500    |\\n\\n\\n[Here is Hyperlink to my GitHub](https://www.github.com/ankit2web)\\n\\n\\n\\n```python\\n# Code & Syntax Highlighting in Python\\nimport antigravity\\n```\\n\\n\\n> This is a Blockquote\\n\\n\\nErase your mistakes using strike-through ~~like this~~.\\n\\n\\n\\nAnd, I love Iron Man ![alt text](https://vignette.wikia.nocookie.net/marvelcinematicuniverse/images/3/35/IronMan-EndgameProfile.jpg/revision/latest/scale-to-width-down/310?cb=20190423175213)\"}], \"metadata\": {\"kernelspec\": {\"name\": \"python3\", \"display_name\": \"Python 3.6\", \"language\": \"python\"}, \"language_info\": {\"name\": \"python\", \"version\": \"3.6.8\", \"mimetype\": \"text/x-python\", \"codemirror_mode\": {\"name\": \"ipython\", \"version\": 3}, \"pygments_lexer\": \"ipython3\", \"nbconvert_exporter\": \"python\", \"file_extension\": \".py\"}}, \"nbformat\": 4, \"nbformat_minor\": 1}"
   ]
  },
  {
   "cell_type": "markdown",
   "metadata": {},
   "source": []
  }
 ],
 "metadata": {
  "kernelspec": {
   "display_name": "Python 3",
   "language": "python",
   "name": "python3"
  },
  "language_info": {
   "codemirror_mode": {
    "name": "ipython",
    "version": 3
   },
   "file_extension": ".py",
   "mimetype": "text/x-python",
   "name": "python",
   "nbconvert_exporter": "python",
   "pygments_lexer": "ipython3",
   "version": "3.10.9"
  },
  "orig_nbformat": 4
 },
 "nbformat": 4,
 "nbformat_minor": 2
}
